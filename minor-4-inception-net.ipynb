{
 "cells": [
  {
   "cell_type": "code",
   "execution_count": 1,
   "id": "15072dc2",
   "metadata": {
    "execution": {
     "iopub.execute_input": "2022-05-11T04:53:32.532589Z",
     "iopub.status.busy": "2022-05-11T04:53:32.532160Z",
     "iopub.status.idle": "2022-05-11T04:53:39.763338Z",
     "shell.execute_reply": "2022-05-11T04:53:39.762602Z"
    },
    "papermill": {
     "duration": 7.274757,
     "end_time": "2022-05-11T04:53:39.765520",
     "exception": false,
     "start_time": "2022-05-11T04:53:32.490763",
     "status": "completed"
    },
    "tags": []
   },
   "outputs": [],
   "source": [
    "\n",
    "import numpy as np\n",
    "import pandas as pd\n",
    "import matplotlib.pyplot as plt\n",
    "import tensorflow as tf\n",
    "import cv2\n",
    "from tensorflow.keras.utils import to_categorical\n",
    "from tensorflow.keras.models import Sequential\n",
    "from keras.layers import Dense,Flatten, Conv2D, MaxPooling2D\n",
    "from tensorflow.keras.optimizers import SGD\n",
    "from sklearn.model_selection import train_test_split\n",
    "from IPython.display import clear_output \n",
    "import threading\n",
    "import imgaug.augmenters as iaa\n",
    "from keras import backend as K\n",
    "from tensorflow import keras\n",
    "from tensorflow.keras.preprocessing.image import ImageDataGenerator\n",
    "from tensorflow.keras.callbacks import ModelCheckpoint, EarlyStopping\n",
    "from random import sample, choice\n",
    "from PIL import Image\n",
    "import albumentations as albu\n",
    "\n",
    "import time\n",
    "import os\n",
    "from tqdm.notebook import tqdm"
   ]
  },
  {
   "cell_type": "code",
   "execution_count": 2,
   "id": "b96955ff",
   "metadata": {
    "execution": {
     "iopub.execute_input": "2022-05-11T04:53:39.845188Z",
     "iopub.status.busy": "2022-05-11T04:53:39.844940Z",
     "iopub.status.idle": "2022-05-11T04:53:40.062167Z",
     "shell.execute_reply": "2022-05-11T04:53:40.061443Z"
    },
    "papermill": {
     "duration": 0.258372,
     "end_time": "2022-05-11T04:53:40.064282",
     "exception": false,
     "start_time": "2022-05-11T04:53:39.805910",
     "status": "completed"
    },
    "tags": []
   },
   "outputs": [],
   "source": [
    "import numpy as np # linear algebra\n",
    "import pandas as pd # data processing, CSV file I/O (e.g. pd.read_csv)\n",
    "import matplotlib.pyplot as plt # showing and rendering figures\n",
    "# io related\n",
    "from skimage.io import imread\n",
    "import os\n",
    "from glob import glob\n",
    "# not needed in Kaggle, but required in Jupyter\n",
    "#%matplotlib inline"
   ]
  },
  {
   "cell_type": "code",
   "execution_count": 3,
   "id": "7710f18f",
   "metadata": {
    "execution": {
     "iopub.execute_input": "2022-05-11T04:53:40.141755Z",
     "iopub.status.busy": "2022-05-11T04:53:40.141371Z",
     "iopub.status.idle": "2022-05-11T04:53:51.100961Z",
     "shell.execute_reply": "2022-05-11T04:53:51.100034Z"
    },
    "papermill": {
     "duration": 11.000825,
     "end_time": "2022-05-11T04:53:51.103140",
     "exception": false,
     "start_time": "2022-05-11T04:53:40.102315",
     "status": "completed"
    },
    "tags": []
   },
   "outputs": [
    {
     "name": "stdout",
     "output_type": "stream",
     "text": [
      "Collecting split-folders\r\n",
      "  Downloading split_folders-0.5.1-py3-none-any.whl (8.4 kB)\r\n",
      "Installing collected packages: split-folders\r\n",
      "Successfully installed split-folders-0.5.1\r\n",
      "\u001b[33mWARNING: Running pip as the 'root' user can result in broken permissions and conflicting behaviour with the system package manager. It is recommended to use a virtual environment instead: https://pip.pypa.io/warnings/venv\u001b[0m\u001b[33m\r\n",
      "\u001b[0mNote: you may need to restart the kernel to use updated packages.\n"
     ]
    }
   ],
   "source": [
    "pip install split-folders"
   ]
  },
  {
   "cell_type": "code",
   "execution_count": 4,
   "id": "50721ce9",
   "metadata": {
    "execution": {
     "iopub.execute_input": "2022-05-11T04:53:51.184996Z",
     "iopub.status.busy": "2022-05-11T04:53:51.184736Z",
     "iopub.status.idle": "2022-05-11T04:55:19.301960Z",
     "shell.execute_reply": "2022-05-11T04:55:19.301064Z"
    },
    "papermill": {
     "duration": 88.160152,
     "end_time": "2022-05-11T04:55:19.304021",
     "exception": false,
     "start_time": "2022-05-11T04:53:51.143869",
     "status": "completed"
    },
    "tags": []
   },
   "outputs": [
    {
     "name": "stderr",
     "output_type": "stream",
     "text": [
      "Copying files: 8000 files [01:28, 90.81 files/s]\n"
     ]
    }
   ],
   "source": [
    "import splitfolders\n",
    "\n",
    "# Split with a ratio.\n",
    "# To only split into training and validation set, set a tuple to `ratio`, i.e, `(.8, .2)`.\n",
    "x=splitfolders.ratio(\"../input/the-kvasir-dataset/kvasir-dataset-v2\", output=\"spiltted\",\n",
    "    seed=0, ratio=(0.7,0.2,0.1)) # default values\n",
    "\n",
    "# Split val/test with a fixed number of items, e.g. `(100, 100)`, for each set.\n",
    "# To only split into training and validation set, use a single number to `fixed`, i.e., `10`.\n",
    "# Set 3 values, e.g. `(300, 100, 100)`, to limit the number of training values.\n",
    "# splitfolders.fixed(\"../input/the-kvasir-dataset/kvasir-dataset-v2\", output=\"split_data\",\n",
    "#    seed=1337, fixed=(700,200, 100), oversample=False, group_prefix=None, move=False) # default values"
   ]
  },
  {
   "cell_type": "code",
   "execution_count": 5,
   "id": "9d2343fc",
   "metadata": {
    "execution": {
     "iopub.execute_input": "2022-05-11T04:55:19.801313Z",
     "iopub.status.busy": "2022-05-11T04:55:19.801060Z",
     "iopub.status.idle": "2022-05-11T04:55:20.332672Z",
     "shell.execute_reply": "2022-05-11T04:55:20.331906Z"
    },
    "papermill": {
     "duration": 0.782531,
     "end_time": "2022-05-11T04:55:20.334818",
     "exception": false,
     "start_time": "2022-05-11T04:55:19.552287",
     "status": "completed"
    },
    "tags": []
   },
   "outputs": [
    {
     "name": "stdout",
     "output_type": "stream",
     "text": [
      "Found 5600 images belonging to 8 classes.\n",
      "Found 1600 images belonging to 8 classes.\n",
      "Found 800 images belonging to 8 classes.\n"
     ]
    }
   ],
   "source": [
    "data=ImageDataGenerator(rotation_range = 20, width_shift_range=0.05, shear_range=0.2,\n",
    "                            zoom_range=0.2, fill_mode='nearest',\n",
    "                            horizontal_flip=True, vertical_flip=True,\n",
    "                            rescale=1/255)\n",
    "\n",
    "  \n",
    "\n",
    "train_dataset = data.flow_from_directory( directory='./spiltted/train',\n",
    "                                        target_size=(500,500), batch_size=50, class_mode='categorical', \n",
    "                                        shuffle=True)\n",
    "\n",
    "valid_dataset  =  data.flow_from_directory('./spiltted/val',\n",
    "                        target_size=(500,500), batch_size=50, class_mode='categorical')\n",
    "test_dataset = data.flow_from_directory('./spiltted/test',\n",
    "                        target_size=(500,500),batch_size=10,class_mode='categorical',shuffle=False)"
   ]
  },
  {
   "cell_type": "code",
   "execution_count": 6,
   "id": "20ccb9c8",
   "metadata": {
    "execution": {
     "iopub.execute_input": "2022-05-11T04:55:20.832487Z",
     "iopub.status.busy": "2022-05-11T04:55:20.831777Z",
     "iopub.status.idle": "2022-05-11T04:55:20.839885Z",
     "shell.execute_reply": "2022-05-11T04:55:20.839116Z"
    },
    "papermill": {
     "duration": 0.261351,
     "end_time": "2022-05-11T04:55:20.842399",
     "exception": false,
     "start_time": "2022-05-11T04:55:20.581048",
     "status": "completed"
    },
    "tags": []
   },
   "outputs": [
    {
     "data": {
      "text/plain": [
       "{'dyed-lifted-polyps': 0,\n",
       " 'dyed-resection-margins': 1,\n",
       " 'esophagitis': 2,\n",
       " 'normal-cecum': 3,\n",
       " 'normal-pylorus': 4,\n",
       " 'normal-z-line': 5,\n",
       " 'polyps': 6,\n",
       " 'ulcerative-colitis': 7}"
      ]
     },
     "execution_count": 6,
     "metadata": {},
     "output_type": "execute_result"
    }
   ],
   "source": [
    "test_dataset.class_indices"
   ]
  },
  {
   "cell_type": "code",
   "execution_count": 7,
   "id": "3a948841",
   "metadata": {
    "execution": {
     "iopub.execute_input": "2022-05-11T04:55:21.578033Z",
     "iopub.status.busy": "2022-05-11T04:55:21.577759Z",
     "iopub.status.idle": "2022-05-11T04:55:21.581397Z",
     "shell.execute_reply": "2022-05-11T04:55:21.580722Z"
    },
    "papermill": {
     "duration": 0.450567,
     "end_time": "2022-05-11T04:55:21.583048",
     "exception": false,
     "start_time": "2022-05-11T04:55:21.132481",
     "status": "completed"
    },
    "tags": []
   },
   "outputs": [],
   "source": [
    "# def count(path):\n",
    "#     x=[]\n",
    "#     y=os.listdir(path)\n",
    "#     for dirpath, dirnames, filenames in os.walk(path):\n",
    "#         n=len(filenames)\n",
    "#         x.append(n)\n",
    "#     x=x[1:9]\n",
    "#     new_dict = dict(zip(y, x))\n",
    "#     return x,y,new_dict\n",
    "#     def plot_count(x,y,new_dict):\n",
    "#         plt.figure(figsize=(15, 6))\n",
    "#         plt.bar(range(len(x)), list(new_dict.values()), align='center')\n",
    "#         plt.xticks(range(len(x)), list(new_dict.keys()))\n",
    "#         plt.title('Distribution of different classes in training datset')\n",
    "#         plt.show()\n",
    "    \n"
   ]
  },
  {
   "cell_type": "code",
   "execution_count": 8,
   "id": "06da21b4",
   "metadata": {
    "execution": {
     "iopub.execute_input": "2022-05-11T04:55:22.112364Z",
     "iopub.status.busy": "2022-05-11T04:55:22.112097Z",
     "iopub.status.idle": "2022-05-11T04:55:22.115660Z",
     "shell.execute_reply": "2022-05-11T04:55:22.114880Z"
    },
    "papermill": {
     "duration": 0.286776,
     "end_time": "2022-05-11T04:55:22.117624",
     "exception": false,
     "start_time": "2022-05-11T04:55:21.830848",
     "status": "completed"
    },
    "tags": []
   },
   "outputs": [],
   "source": [
    "#     def plot_count(x,y,new_dict):\n",
    "#         plt.figure(figsize=(15, 6))\n",
    "#         plt.bar(range(len(x)), list(new_dict.values()), align='center')\n",
    "#         plt.xticks(range(len(x)), list(new_dict.keys()))\n",
    "#         plt.title('Distribution of different classes in training datset')\n",
    "#         plt.show()"
   ]
  },
  {
   "cell_type": "code",
   "execution_count": 9,
   "id": "3cb850e7",
   "metadata": {
    "execution": {
     "iopub.execute_input": "2022-05-11T04:55:22.612692Z",
     "iopub.status.busy": "2022-05-11T04:55:22.612425Z",
     "iopub.status.idle": "2022-05-11T04:55:22.855010Z",
     "shell.execute_reply": "2022-05-11T04:55:22.854373Z"
    },
    "papermill": {
     "duration": 0.491731,
     "end_time": "2022-05-11T04:55:22.856699",
     "exception": false,
     "start_time": "2022-05-11T04:55:22.364968",
     "status": "completed"
    },
    "tags": []
   },
   "outputs": [
    {
     "data": {
      "image/png": "[encoded data removed]",
      "text/plain": [
       "<Figure size 1080x432 with 1 Axes>"
      ]
     },
     "metadata": {
      "needs_background": "light"
     },
     "output_type": "display_data"
    }
   ],
   "source": [
    "x=[]\n",
    "path='./spiltted/train'\n",
    "y=os.listdir(path)\n",
    "for dirpath, dirnames, filenames in os.walk(path):\n",
    "    n=len(filenames)\n",
    "    x.append(n)\n",
    "x=x[1:9]\n",
    "new_dict = dict(zip(y, x))\n",
    "plt.figure(figsize=(15, 6))\n",
    "plt.bar(range(len(x)), list(new_dict.values()), align='center')\n",
    "plt.xticks(range(len(x)), list(new_dict.keys()))\n",
    "plt.title('Distribution of different classes in training datset')\n",
    "plt.show()"
   ]
  },
  {
   "cell_type": "code",
   "execution_count": 10,
   "id": "1230de13",
   "metadata": {
    "execution": {
     "iopub.execute_input": "2022-05-11T04:55:23.420027Z",
     "iopub.status.busy": "2022-05-11T04:55:23.419517Z",
     "iopub.status.idle": "2022-05-11T04:55:23.634079Z",
     "shell.execute_reply": "2022-05-11T04:55:23.633380Z"
    },
    "papermill": {
     "duration": 0.519302,
     "end_time": "2022-05-11T04:55:23.636077",
     "exception": false,
     "start_time": "2022-05-11T04:55:23.116775",
     "status": "completed"
    },
    "tags": []
   },
   "outputs": [
    {
     "data": {
      "image/png": "[encoded data removed]",
      "text/plain": [
       "<Figure size 1080x432 with 1 Axes>"
      ]
     },
     "metadata": {
      "needs_background": "light"
     },
     "output_type": "display_data"
    }
   ],
   "source": [
    "x=[]\n",
    "path='./spiltted/val'\n",
    "y=os.listdir(path)\n",
    "for dirpath, dirnames, filenames in os.walk(path):\n",
    "    n=len(filenames)\n",
    "    x.append(n)\n",
    "x=x[1:9]\n",
    "new_dict = dict(zip(y, x))\n",
    "plt.figure(figsize=(15, 6))\n",
    "plt.bar(range(len(x)), list(new_dict.values()), align='center')\n",
    "plt.xticks(range(len(x)), list(new_dict.keys()))\n",
    "plt.title('Distribution of different classes in val datset')\n",
    "plt.show()"
   ]
  },
  {
   "cell_type": "code",
   "execution_count": 11,
   "id": "7b5c97ff",
   "metadata": {
    "execution": {
     "iopub.execute_input": "2022-05-11T04:55:25.309663Z",
     "iopub.status.busy": "2022-05-11T04:55:25.309215Z",
     "iopub.status.idle": "2022-05-11T04:55:25.570950Z",
     "shell.execute_reply": "2022-05-11T04:55:25.570247Z"
    },
    "papermill": {
     "duration": 0.584163,
     "end_time": "2022-05-11T04:55:25.573386",
     "exception": false,
     "start_time": "2022-05-11T04:55:24.989223",
     "status": "completed"
    },
    "tags": []
   },
   "outputs": [
    {
     "data": {
      "image/png": "[encoded data removed]",
      "text/plain": [
       "<Figure size 1080x432 with 1 Axes>"
      ]
     },
     "metadata": {
      "needs_background": "light"
     },
     "output_type": "display_data"
    }
   ],
   "source": [
    "x=[]\n",
    "path='./spiltted/test'\n",
    "y=os.listdir(path)\n",
    "for dirpath, dirnames, filenames in os.walk(path):\n",
    "    n=len(filenames)\n",
    "    x.append(n)\n",
    "x=x[1:9]\n",
    "new_dict = dict(zip(y, x))\n",
    "plt.figure(figsize=(15, 6))\n",
    "plt.bar(range(len(x)), list(new_dict.values()), align='center')\n",
    "plt.xticks(range(len(x)), list(new_dict.keys()))\n",
    "plt.title('Distribution of different classes in test datset')\n",
    "plt.show()"
   ]
  },
  {
   "cell_type": "code",
   "execution_count": 12,
   "id": "a35a6190",
   "metadata": {
    "execution": {
     "iopub.execute_input": "2022-05-11T04:55:26.399501Z",
     "iopub.status.busy": "2022-05-11T04:55:26.399189Z",
     "iopub.status.idle": "2022-05-11T04:55:26.402668Z",
     "shell.execute_reply": "2022-05-11T04:55:26.402049Z"
    },
    "papermill": {
     "duration": 0.424482,
     "end_time": "2022-05-11T04:55:26.409013",
     "exception": false,
     "start_time": "2022-05-11T04:55:25.984531",
     "status": "completed"
    },
    "tags": []
   },
   "outputs": [],
   "source": [
    "# train_path='./spiltted/train'\n",
    "# count(train_path)\n",
    "# plot_count(x,y,new_dict)\n",
    "# new_dict = dict(zip(y, x))\n",
    "# plt.figure(figsize=(15, 6))\n",
    "# plt.bar(range(len(x)), list(new_dict.values()), align='center')\n",
    "# plt.xticks(range(len(x)), list(new_dict.keys()))\n",
    "# plt.title('Distribution of different classes in training datset')\n",
    "# plt.show()"
   ]
  },
  {
   "cell_type": "code",
   "execution_count": 13,
   "id": "6ec24418",
   "metadata": {
    "execution": {
     "iopub.execute_input": "2022-05-11T04:55:26.927604Z",
     "iopub.status.busy": "2022-05-11T04:55:26.927313Z",
     "iopub.status.idle": "2022-05-11T04:55:26.930782Z",
     "shell.execute_reply": "2022-05-11T04:55:26.930089Z"
    },
    "papermill": {
     "duration": 0.257666,
     "end_time": "2022-05-11T04:55:26.932441",
     "exception": false,
     "start_time": "2022-05-11T04:55:26.674775",
     "status": "completed"
    },
    "tags": []
   },
   "outputs": [],
   "source": [
    "# val_path='./spiltted/val'\n",
    "# count(val_path)\n",
    "\n",
    "# plt.figure(figsize=(15, 6))\n",
    "# plt.bar(range(len(x)), list(new_dict.values()), align='center')\n",
    "# plt.xticks(range(len(x)), list(new_dict.keys()))\n",
    "# plt.title('Distribution of different classes in val datset')\n",
    "# plt.show()"
   ]
  },
  {
   "cell_type": "code",
   "execution_count": 14,
   "id": "bab99e61",
   "metadata": {
    "execution": {
     "iopub.execute_input": "2022-05-11T04:55:27.433591Z",
     "iopub.status.busy": "2022-05-11T04:55:27.433317Z",
     "iopub.status.idle": "2022-05-11T04:55:36.793589Z",
     "shell.execute_reply": "2022-05-11T04:55:36.792825Z"
    },
    "papermill": {
     "duration": 9.613092,
     "end_time": "2022-05-11T04:55:36.795804",
     "exception": false,
     "start_time": "2022-05-11T04:55:27.182712",
     "status": "completed"
    },
    "tags": []
   },
   "outputs": [
    {
     "name": "stderr",
     "output_type": "stream",
     "text": [
      "2022-05-11 04:55:31.178028: I tensorflow/stream_executor/cuda/cuda_gpu_executor.cc:937] successful NUMA node read from SysFS had negative value (-1), but there must be at least one NUMA node, so returning NUMA node zero\n",
      "2022-05-11 04:55:31.322412: I tensorflow/stream_executor/cuda/cuda_gpu_executor.cc:937] successful NUMA node read from SysFS had negative value (-1), but there must be at least one NUMA node, so returning NUMA node zero\n",
      "2022-05-11 04:55:31.323332: I tensorflow/stream_executor/cuda/cuda_gpu_executor.cc:937] successful NUMA node read from SysFS had negative value (-1), but there must be at least one NUMA node, so returning NUMA node zero\n",
      "2022-05-11 04:55:31.325122: I tensorflow/core/platform/cpu_feature_guard.cc:142] This TensorFlow binary is optimized with oneAPI Deep Neural Network Library (oneDNN) to use the following CPU instructions in performance-critical operations:  AVX2 AVX512F FMA\n",
      "To enable them in other operations, rebuild TensorFlow with the appropriate compiler flags.\n",
      "2022-05-11 04:55:31.325505: I tensorflow/stream_executor/cuda/cuda_gpu_executor.cc:937] successful NUMA node read from SysFS had negative value (-1), but there must be at least one NUMA node, so returning NUMA node zero\n",
      "2022-05-11 04:55:31.326615: I tensorflow/stream_executor/cuda/cuda_gpu_executor.cc:937] successful NUMA node read from SysFS had negative value (-1), but there must be at least one NUMA node, so returning NUMA node zero\n",
      "2022-05-11 04:55:31.327664: I tensorflow/stream_executor/cuda/cuda_gpu_executor.cc:937] successful NUMA node read from SysFS had negative value (-1), but there must be at least one NUMA node, so returning NUMA node zero\n",
      "2022-05-11 04:55:33.594705: I tensorflow/stream_executor/cuda/cuda_gpu_executor.cc:937] successful NUMA node read from SysFS had negative value (-1), but there must be at least one NUMA node, so returning NUMA node zero\n",
      "2022-05-11 04:55:33.595623: I tensorflow/stream_executor/cuda/cuda_gpu_executor.cc:937] successful NUMA node read from SysFS had negative value (-1), but there must be at least one NUMA node, so returning NUMA node zero\n",
      "2022-05-11 04:55:33.596339: I tensorflow/stream_executor/cuda/cuda_gpu_executor.cc:937] successful NUMA node read from SysFS had negative value (-1), but there must be at least one NUMA node, so returning NUMA node zero\n",
      "2022-05-11 04:55:33.597767: I tensorflow/core/common_runtime/gpu/gpu_device.cc:1510] Created device /job:localhost/replica:0/task:0/device:GPU:0 with 15403 MB memory:  -> device: 0, name: Tesla P100-PCIE-16GB, pci bus id: 0000:00:04.0, compute capability: 6.0\n"
     ]
    }
   ],
   "source": [
    "#@title Model_dict_initialization\n",
    "import tensorflow_hub\n",
    "#import tensorflow_addons as tfa\n",
    "IMAGE_SHAPE = (500,500)\n",
    "\n",
    "url=\"https://tfhub.dev/google/imagenet/inception_v3/classification/5\"\n",
    "# url=\"https://tfhub.dev/google/imagenet/mobilenet_v3_large_100_224/feature_vector/5\"\n",
    "#url=\"https://tfhub.dev/tensorflow/resnet_50/feature_vector/1\"\n",
    "#url=\"https://tfhub.dev/google/imagenet/inception_resnet_v2/feature_vector/5\"\n",
    "model = tf.keras.Sequential([\n",
    "      tensorflow_hub.KerasLayer(url,trainable=False, input_shape=IMAGE_SHAPE+(3,)),\n",
    "      tf.keras.layers.Dense(500, activation='relu'),\n",
    "      tf.keras.layers.Dense(250,activation='relu'),\n",
    "      tf.keras.layers.Dense(100,activation='relu'),\n",
    "      tf.keras.layers.Dense(8,activation='softmax')\n",
    "      ])\n",
    "\n",
    "\n",
    "#model.compile(loss='binary_crossentropy', optimizer='sgd', metrics=['accuracy'] )\n",
    "model.compile(loss='categorical_crossentropy', optimizer='adam', metrics=[\"categorical_accuracy\", \"Precision\", \"Recall\"] )\n",
    "#model.compile(loss=custom_binary_crossentropy_loss, optimizer='sgd', metrics=['accuracy'],run_eagerly=True )\n",
    "\n",
    "#model_dict=dict(zip(classes,model_list))"
   ]
  },
  {
   "cell_type": "code",
   "execution_count": 15,
   "id": "cfb5e3e7",
   "metadata": {
    "execution": {
     "iopub.execute_input": "2022-05-11T04:55:37.299180Z",
     "iopub.status.busy": "2022-05-11T04:55:37.298931Z",
     "iopub.status.idle": "2022-05-11T04:55:37.315169Z",
     "shell.execute_reply": "2022-05-11T04:55:37.314476Z"
    },
    "papermill": {
     "duration": 0.268649,
     "end_time": "2022-05-11T04:55:37.316996",
     "exception": false,
     "start_time": "2022-05-11T04:55:37.048347",
     "status": "completed"
    },
    "tags": []
   },
   "outputs": [
    {
     "name": "stdout",
     "output_type": "stream",
     "text": [
      "Model: \"sequential\"\n",
      "_________________________________________________________________\n",
      "Layer (type)                 Output Shape              Param #   \n",
      "=================================================================\n",
      "keras_layer (KerasLayer)     (None, 1001)              23853833  \n",
      "_________________________________________________________________\n",
      "dense (Dense)                (None, 500)               501000    \n",
      "_________________________________________________________________\n",
      "dense_1 (Dense)              (None, 250)               125250    \n",
      "_________________________________________________________________\n",
      "dense_2 (Dense)              (None, 100)               25100     \n",
      "_________________________________________________________________\n",
      "dense_3 (Dense)              (None, 8)                 808       \n",
      "=================================================================\n",
      "Total params: 24,505,991\n",
      "Trainable params: 652,158\n",
      "Non-trainable params: 23,853,833\n",
      "_________________________________________________________________\n"
     ]
    }
   ],
   "source": [
    "model.summary()"
   ]
  },
  {
   "cell_type": "code",
   "execution_count": 16,
   "id": "13c386a9",
   "metadata": {
    "execution": {
     "iopub.execute_input": "2022-05-11T04:55:37.819452Z",
     "iopub.status.busy": "2022-05-11T04:55:37.819195Z",
     "iopub.status.idle": "2022-05-11T04:55:37.824157Z",
     "shell.execute_reply": "2022-05-11T04:55:37.823470Z"
    },
    "papermill": {
     "duration": 0.258549,
     "end_time": "2022-05-11T04:55:37.825848",
     "exception": false,
     "start_time": "2022-05-11T04:55:37.567299",
     "status": "completed"
    },
    "tags": []
   },
   "outputs": [],
   "source": [
    "mc = ModelCheckpoint(mode='max', filepath='top-weights-na.h5', monitor='val_categorical_accuracy',save_best_only='True', verbose=1)\n",
    "es = EarlyStopping(monitor='val_categorical_accuracy', patience=10, verbose=0)"
   ]
  },
  {
   "cell_type": "code",
   "execution_count": 17,
   "id": "c6ab2f8f",
   "metadata": {
    "execution": {
     "iopub.execute_input": "2022-05-11T04:55:38.329225Z",
     "iopub.status.busy": "2022-05-11T04:55:38.328974Z",
     "iopub.status.idle": "2022-05-11T07:00:23.728045Z",
     "shell.execute_reply": "2022-05-11T07:00:23.727328Z"
    },
    "papermill": {
     "duration": 7486.434639,
     "end_time": "2022-05-11T07:00:24.512079",
     "exception": false,
     "start_time": "2022-05-11T04:55:38.077440",
     "status": "completed"
    },
    "tags": []
   },
   "outputs": [
    {
     "name": "stderr",
     "output_type": "stream",
     "text": [
      "2022-05-11 04:55:41.636806: I tensorflow/compiler/mlir/mlir_graph_optimization_pass.cc:185] None of the MLIR Optimization Passes are enabled (registered 2)\n"
     ]
    },
    {
     "name": "stdout",
     "output_type": "stream",
     "text": [
      "Epoch 1/15\n"
     ]
    },
    {
     "name": "stderr",
     "output_type": "stream",
     "text": [
      "2022-05-11 04:55:50.689978: I tensorflow/stream_executor/cuda/cuda_dnn.cc:369] Loaded cuDNN version 8005\n"
     ]
    },
    {
     "name": "stdout",
     "output_type": "stream",
     "text": [
      "112/112 [==============================] - 508s 4s/step - loss: 0.6848 - categorical_accuracy: 0.7234 - precision: 0.7718 - recall: 0.6632 - val_loss: 0.6091 - val_categorical_accuracy: 0.7425 - val_precision: 0.7581 - val_recall: 0.7169\n",
      "\n",
      "Epoch 00001: val_categorical_accuracy improved from -inf to 0.74250, saving model to top-weights-na.h5\n",
      "Epoch 2/15\n",
      "112/112 [==============================] - 488s 4s/step - loss: 0.4867 - categorical_accuracy: 0.8005 - precision: 0.8167 - recall: 0.7807 - val_loss: 0.4524 - val_categorical_accuracy: 0.8062 - val_precision: 0.8182 - val_recall: 0.7875\n",
      "\n",
      "Epoch 00002: val_categorical_accuracy improved from 0.74250 to 0.80625, saving model to top-weights-na.h5\n",
      "Epoch 3/15\n",
      "112/112 [==============================] - 491s 4s/step - loss: 0.4316 - categorical_accuracy: 0.8204 - precision: 0.8333 - recall: 0.8043 - val_loss: 0.4374 - val_categorical_accuracy: 0.8106 - val_precision: 0.8196 - val_recall: 0.7981\n",
      "\n",
      "Epoch 00003: val_categorical_accuracy improved from 0.80625 to 0.81063, saving model to top-weights-na.h5\n",
      "Epoch 4/15\n",
      "112/112 [==============================] - 491s 4s/step - loss: 0.4142 - categorical_accuracy: 0.8241 - precision: 0.8383 - recall: 0.8102 - val_loss: 0.4035 - val_categorical_accuracy: 0.8288 - val_precision: 0.8427 - val_recall: 0.8138\n",
      "\n",
      "Epoch 00004: val_categorical_accuracy improved from 0.81063 to 0.82875, saving model to top-weights-na.h5\n",
      "Epoch 5/15\n",
      "112/112 [==============================] - 490s 4s/step - loss: 0.3701 - categorical_accuracy: 0.8477 - precision: 0.8572 - recall: 0.8370 - val_loss: 0.4104 - val_categorical_accuracy: 0.8169 - val_precision: 0.8256 - val_recall: 0.8075\n",
      "\n",
      "Epoch 00005: val_categorical_accuracy did not improve from 0.82875\n",
      "Epoch 6/15\n",
      "112/112 [==============================] - 493s 4s/step - loss: 0.3589 - categorical_accuracy: 0.8521 - precision: 0.8615 - recall: 0.8430 - val_loss: 0.4486 - val_categorical_accuracy: 0.8044 - val_precision: 0.8157 - val_recall: 0.7969\n",
      "\n",
      "Epoch 00006: val_categorical_accuracy did not improve from 0.82875\n",
      "Epoch 7/15\n",
      "112/112 [==============================] - 492s 4s/step - loss: 0.3522 - categorical_accuracy: 0.8525 - precision: 0.8589 - recall: 0.8434 - val_loss: 0.4321 - val_categorical_accuracy: 0.8219 - val_precision: 0.8323 - val_recall: 0.8125\n",
      "\n",
      "Epoch 00007: val_categorical_accuracy did not improve from 0.82875\n",
      "Epoch 8/15\n",
      "112/112 [==============================] - 493s 4s/step - loss: 0.3554 - categorical_accuracy: 0.8493 - precision: 0.8561 - recall: 0.8405 - val_loss: 0.3823 - val_categorical_accuracy: 0.8313 - val_precision: 0.8406 - val_recall: 0.8275\n",
      "\n",
      "Epoch 00008: val_categorical_accuracy improved from 0.82875 to 0.83125, saving model to top-weights-na.h5\n",
      "Epoch 9/15\n",
      "112/112 [==============================] - 492s 4s/step - loss: 0.3439 - categorical_accuracy: 0.8579 - precision: 0.8642 - recall: 0.8498 - val_loss: 0.4342 - val_categorical_accuracy: 0.8213 - val_precision: 0.8291 - val_recall: 0.8125\n",
      "\n",
      "Epoch 00009: val_categorical_accuracy did not improve from 0.83125\n",
      "Epoch 10/15\n",
      "112/112 [==============================] - 498s 4s/step - loss: 0.3344 - categorical_accuracy: 0.8611 - precision: 0.8683 - recall: 0.8532 - val_loss: 0.3716 - val_categorical_accuracy: 0.8494 - val_precision: 0.8551 - val_recall: 0.8413\n",
      "\n",
      "Epoch 00010: val_categorical_accuracy improved from 0.83125 to 0.84938, saving model to top-weights-na.h5\n",
      "Epoch 11/15\n",
      "112/112 [==============================] - 496s 4s/step - loss: 0.3168 - categorical_accuracy: 0.8696 - precision: 0.8753 - recall: 0.8625 - val_loss: 0.3755 - val_categorical_accuracy: 0.8438 - val_precision: 0.8522 - val_recall: 0.8394\n",
      "\n",
      "Epoch 00011: val_categorical_accuracy did not improve from 0.84938\n",
      "Epoch 12/15\n",
      "112/112 [==============================] - 496s 4s/step - loss: 0.3120 - categorical_accuracy: 0.8686 - precision: 0.8748 - recall: 0.8637 - val_loss: 0.3845 - val_categorical_accuracy: 0.8406 - val_precision: 0.8455 - val_recall: 0.8313\n",
      "\n",
      "Epoch 00012: val_categorical_accuracy did not improve from 0.84938\n",
      "Epoch 13/15\n",
      "112/112 [==============================] - 495s 4s/step - loss: 0.3023 - categorical_accuracy: 0.8743 - precision: 0.8789 - recall: 0.8684 - val_loss: 0.4597 - val_categorical_accuracy: 0.8175 - val_precision: 0.8188 - val_recall: 0.8106\n",
      "\n",
      "Epoch 00013: val_categorical_accuracy did not improve from 0.84938\n",
      "Epoch 14/15\n",
      "112/112 [==============================] - 497s 4s/step - loss: 0.2937 - categorical_accuracy: 0.8788 - precision: 0.8848 - recall: 0.8752 - val_loss: 0.4618 - val_categorical_accuracy: 0.8169 - val_precision: 0.8256 - val_recall: 0.8106\n",
      "\n",
      "Epoch 00014: val_categorical_accuracy did not improve from 0.84938\n",
      "Epoch 15/15\n",
      "112/112 [==============================] - 505s 5s/step - loss: 0.3007 - categorical_accuracy: 0.8739 - precision: 0.8790 - recall: 0.8679 - val_loss: 0.3963 - val_categorical_accuracy: 0.8375 - val_precision: 0.8450 - val_recall: 0.8350\n",
      "\n",
      "Epoch 00015: val_categorical_accuracy did not improve from 0.84938\n"
     ]
    }
   ],
   "source": [
    "history=model.fit(train_dataset,epochs=15, validation_data=valid_dataset, callbacks=[mc,es])"
   ]
  },
  {
   "cell_type": "code",
   "execution_count": 18,
   "id": "9b5b2cfa",
   "metadata": {
    "execution": {
     "iopub.execute_input": "2022-05-11T07:00:26.195386Z",
     "iopub.status.busy": "2022-05-11T07:00:26.195066Z",
     "iopub.status.idle": "2022-05-11T07:00:26.201053Z",
     "shell.execute_reply": "2022-05-11T07:00:26.200419Z"
    },
    "papermill": {
     "duration": 0.905204,
     "end_time": "2022-05-11T07:00:26.202825",
     "exception": false,
     "start_time": "2022-05-11T07:00:25.297621",
     "status": "completed"
    },
    "tags": []
   },
   "outputs": [
    {
     "data": {
      "text/plain": [
       "{'dyed-lifted-polyps': 0,\n",
       " 'dyed-resection-margins': 1,\n",
       " 'esophagitis': 2,\n",
       " 'normal-cecum': 3,\n",
       " 'normal-pylorus': 4,\n",
       " 'normal-z-line': 5,\n",
       " 'polyps': 6,\n",
       " 'ulcerative-colitis': 7}"
      ]
     },
     "execution_count": 18,
     "metadata": {},
     "output_type": "execute_result"
    }
   ],
   "source": [
    "test_dataset.class_indices"
   ]
  },
  {
   "cell_type": "code",
   "execution_count": null,
   "id": "bff34cab",
   "metadata": {
    "papermill": {
     "duration": 0.782504,
     "end_time": "2022-05-11T07:00:27.917637",
     "exception": false,
     "start_time": "2022-05-11T07:00:27.135133",
     "status": "completed"
    },
    "tags": []
   },
   "outputs": [],
   "source": []
  },
  {
   "cell_type": "code",
   "execution_count": 19,
   "id": "f53329e8",
   "metadata": {
    "execution": {
     "iopub.execute_input": "2022-05-11T07:00:29.488646Z",
     "iopub.status.busy": "2022-05-11T07:00:29.488369Z",
     "iopub.status.idle": "2022-05-11T07:01:23.333619Z",
     "shell.execute_reply": "2022-05-11T07:01:23.332811Z"
    },
    "papermill": {
     "duration": 55.169245,
     "end_time": "2022-05-11T07:01:23.875626",
     "exception": false,
     "start_time": "2022-05-11T07:00:28.706381",
     "status": "completed"
    },
    "tags": []
   },
   "outputs": [
    {
     "name": "stderr",
     "output_type": "stream",
     "text": [
      "/opt/conda/lib/python3.7/site-packages/keras/engine/training.py:2035: UserWarning: `Model.predict_generator` is deprecated and will be removed in a future version. Please use `Model.predict`, which supports generators.\n",
      "  warnings.warn('`Model.predict_generator` is deprecated and '\n"
     ]
    },
    {
     "data": {
      "text/plain": [
       "<AxesSubplot:>"
      ]
     },
     "execution_count": 19,
     "metadata": {},
     "output_type": "execute_result"
    },
    {
     "data": {
      "image/png": "[encoded data removed]",
      "text/plain": [
       "<Figure size 432x288 with 2 Axes>"
      ]
     },
     "metadata": {
      "needs_background": "light"
     },
     "output_type": "display_data"
    }
   ],
   "source": [
    "from sklearn.metrics import ConfusionMatrixDisplay, confusion_matrix\n",
    "import seaborn as sns\n",
    "import numpy as np\n",
    "Y_pred = model.predict_generator(test_dataset)\n",
    "y_pred = np.argmax(Y_pred, axis=1)\n",
    "\n",
    "cm=confusion_matrix(y_pred, test_dataset.classes)\n",
    "sns.heatmap(cm, annot=True,fmt=\"d\",cmap='Blues')"
   ]
  },
  {
   "cell_type": "code",
   "execution_count": 20,
   "id": "f1327890",
   "metadata": {
    "execution": {
     "iopub.execute_input": "2022-05-11T07:01:25.460466Z",
     "iopub.status.busy": "2022-05-11T07:01:25.460209Z",
     "iopub.status.idle": "2022-05-11T07:02:19.145190Z",
     "shell.execute_reply": "2022-05-11T07:02:19.144450Z"
    },
    "papermill": {
     "duration": 54.482095,
     "end_time": "2022-05-11T07:02:19.147175",
     "exception": false,
     "start_time": "2022-05-11T07:01:24.665080",
     "status": "completed"
    },
    "tags": []
   },
   "outputs": [
    {
     "name": "stdout",
     "output_type": "stream",
     "text": [
      "80/80 [==============================] - 53s 664ms/step - loss: 0.3780 - categorical_accuracy: 0.8500 - precision: 0.8542 - recall: 0.8425\n"
     ]
    },
    {
     "data": {
      "text/plain": [
       "[0.37797245383262634,\n",
       " 0.8500000238418579,\n",
       " 0.8542459011077881,\n",
       " 0.8424999713897705]"
      ]
     },
     "execution_count": 20,
     "metadata": {},
     "output_type": "execute_result"
    }
   ],
   "source": [
    "# test_dataset = data.flow_from_directory('./spiltted/test',\n",
    "#                         target_size=(224,224),batch_size=1,class_mode='categorical',shuffle=False)\n",
    "model.evaluate(test_dataset, verbose=1)"
   ]
  },
  {
   "cell_type": "code",
   "execution_count": 21,
   "id": "76b24ea1",
   "metadata": {
    "execution": {
     "iopub.execute_input": "2022-05-11T07:02:20.790477Z",
     "iopub.status.busy": "2022-05-11T07:02:20.790209Z",
     "iopub.status.idle": "2022-05-11T07:02:20.800510Z",
     "shell.execute_reply": "2022-05-11T07:02:20.798202Z"
    },
    "papermill": {
     "duration": 0.83485,
     "end_time": "2022-05-11T07:02:20.803319",
     "exception": false,
     "start_time": "2022-05-11T07:02:19.968469",
     "status": "completed"
    },
    "tags": []
   },
   "outputs": [
    {
     "data": {
      "text/plain": [
       "dict_keys(['loss', 'categorical_accuracy', 'precision', 'recall', 'val_loss', 'val_categorical_accuracy', 'val_precision', 'val_recall'])"
      ]
     },
     "execution_count": 21,
     "metadata": {},
     "output_type": "execute_result"
    }
   ],
   "source": [
    "history.history.keys()"
   ]
  },
  {
   "cell_type": "code",
   "execution_count": 22,
   "id": "7aca6371",
   "metadata": {
    "execution": {
     "iopub.execute_input": "2022-05-11T07:02:22.543059Z",
     "iopub.status.busy": "2022-05-11T07:02:22.542801Z",
     "iopub.status.idle": "2022-05-11T07:02:22.553506Z",
     "shell.execute_reply": "2022-05-11T07:02:22.552730Z"
    },
    "papermill": {
     "duration": 0.931538,
     "end_time": "2022-05-11T07:02:22.555504",
     "exception": false,
     "start_time": "2022-05-11T07:02:21.623966",
     "status": "completed"
    },
    "tags": []
   },
   "outputs": [],
   "source": [
    "def plot_loss(history):\n",
    "    plt.plot(history.history['loss'], label='train_loss', marker='o')\n",
    "    plt.plot( history.history['val_loss'], label='val_loss', marker='o')\n",
    "    #plt.plot(history['train_loss_list'], label='train_loss', marker='o')\n",
    "    plt.title('Loss'); plt.ylabel('Loss');\n",
    "    plt.xlabel('Epoch')\n",
    "    plt.legend(), plt.grid()\n",
    "    plt.show()\n",
    "    \n",
    "def plot_accuracy(history):\n",
    "    plt.plot(history.history['categorical_accuracy'], label='train_acc', marker='o')\n",
    "    plt.plot( history.history['val_categorical_accuracy'], label='val_acc', marker='o')\n",
    "    #plt.plot(history['train_loss_list'], label='train_loss', marker='o')\n",
    "    plt.title('Accuracy'); plt.ylabel('Accuracy');\n",
    "    plt.xlabel('Epoch')\n",
    "    plt.legend(), plt.grid()\n",
    "    plt.show()\n",
    "    \n",
    "def plot_precision(history):\n",
    "    plt.plot(history.history['precision'], label='train_precision', marker='o')\n",
    "    plt.plot( history.history['val_precision'], label='val_precision', marker='o')\n",
    "    #plt.plot(history['train_loss_list'], label='train_loss', marker='o')\n",
    "    plt.title('Precision'); plt.ylabel('Precision');\n",
    "    plt.xlabel('Epoch')\n",
    "    plt.legend(), plt.grid()\n",
    "    plt.show()\n",
    "    \n",
    "def plot_recall(history):\n",
    "    plt.plot(history.history['recall'], label='train_recall', marker='o')\n",
    "    plt.plot( history.history['val_recall'], label='val_recall', marker='o')\n",
    "    #plt.plot(history['train_loss_list'], label='train_loss', marker='o')\n",
    "    plt.title('Recall'); plt.ylabel('Recall');\n",
    "    plt.xlabel('Epoch')\n",
    "    plt.legend(), plt.grid()\n",
    "    plt.show()"
   ]
  },
  {
   "cell_type": "code",
   "execution_count": 23,
   "id": "94b605ba",
   "metadata": {
    "execution": {
     "iopub.execute_input": "2022-05-11T07:02:24.178222Z",
     "iopub.status.busy": "2022-05-11T07:02:24.177504Z",
     "iopub.status.idle": "2022-05-11T07:02:24.970110Z",
     "shell.execute_reply": "2022-05-11T07:02:24.969408Z"
    },
    "papermill": {
     "duration": 1.610292,
     "end_time": "2022-05-11T07:02:24.972123",
     "exception": false,
     "start_time": "2022-05-11T07:02:23.361831",
     "status": "completed"
    },
    "tags": []
   },
   "outputs": [
    {
     "data": {
      "image/png": "[encoded data removed]",
      "text/plain": [
       "<Figure size 432x288 with 1 Axes>"
      ]
     },
     "metadata": {
      "needs_background": "light"
     },
     "output_type": "display_data"
    },
    {
     "data": {
      "image/png": "[encoded data removed]",
      "text/plain": [
       "<Figure size 432x288 with 1 Axes>"
      ]
     },
     "metadata": {
      "needs_background": "light"
     },
     "output_type": "display_data"
    },
    {
     "data": {
      "image/png": "[encoded data removed]",
      "text/plain": [
       "<Figure size 432x288 with 1 Axes>"
      ]
     },
     "metadata": {
      "needs_background": "light"
     },
     "output_type": "display_data"
    },
    {
     "data": {
      "image/png": "[encoded data removed]",
      "text/plain": [
       "<Figure size 432x288 with 1 Axes>"
      ]
     },
     "metadata": {
      "needs_background": "light"
     },
     "output_type": "display_data"
    }
   ],
   "source": [
    "plot_loss(history)\n",
    "plot_accuracy(history)\n",
    "plot_precision(history)\n",
    "plot_recall(history)"
   ]
  },
  {
   "cell_type": "code",
   "execution_count": 24,
   "id": "7b90b6a6",
   "metadata": {
    "execution": {
     "iopub.execute_input": "2022-05-11T07:02:26.631150Z",
     "iopub.status.busy": "2022-05-11T07:02:26.630881Z",
     "iopub.status.idle": "2022-05-11T07:02:26.634802Z",
     "shell.execute_reply": "2022-05-11T07:02:26.634094Z"
    },
    "papermill": {
     "duration": 0.834807,
     "end_time": "2022-05-11T07:02:26.636975",
     "exception": false,
     "start_time": "2022-05-11T07:02:25.802168",
     "status": "completed"
    },
    "tags": []
   },
   "outputs": [],
   "source": [
    "os.mkdir('/kaggle/working/mysaved_minor04')"
   ]
  },
  {
   "cell_type": "code",
   "execution_count": 25,
   "id": "419a04f0",
   "metadata": {
    "execution": {
     "iopub.execute_input": "2022-05-11T07:02:28.559227Z",
     "iopub.status.busy": "2022-05-11T07:02:28.558971Z",
     "iopub.status.idle": "2022-05-11T07:02:36.550329Z",
     "shell.execute_reply": "2022-05-11T07:02:36.549600Z"
    },
    "papermill": {
     "duration": 8.808745,
     "end_time": "2022-05-11T07:02:36.552751",
     "exception": false,
     "start_time": "2022-05-11T07:02:27.744006",
     "status": "completed"
    },
    "tags": []
   },
   "outputs": [
    {
     "name": "stderr",
     "output_type": "stream",
     "text": [
      "2022-05-11 07:02:31.341664: W tensorflow/python/util/util.cc:348] Sets are not currently considered sequences, but this may change in the future, so consider avoiding using them.\n"
     ]
    }
   ],
   "source": [
    "model.save('./mysaved_minor04')"
   ]
  },
  {
   "cell_type": "code",
   "execution_count": 26,
   "id": "7ed2e979",
   "metadata": {
    "execution": {
     "iopub.execute_input": "2022-05-11T07:02:38.393487Z",
     "iopub.status.busy": "2022-05-11T07:02:38.393227Z",
     "iopub.status.idle": "2022-05-11T07:02:43.280053Z",
     "shell.execute_reply": "2022-05-11T07:02:43.279317Z"
    },
    "papermill": {
     "duration": 5.933874,
     "end_time": "2022-05-11T07:02:43.300985",
     "exception": false,
     "start_time": "2022-05-11T07:02:37.367111",
     "status": "completed"
    },
    "tags": []
   },
   "outputs": [],
   "source": [
    "model = keras.models.load_model('/kaggle/working/mysaved_minor04')"
   ]
  },
  {
   "cell_type": "code",
   "execution_count": 27,
   "id": "6101e25e",
   "metadata": {
    "execution": {
     "iopub.execute_input": "2022-05-11T07:02:45.023131Z",
     "iopub.status.busy": "2022-05-11T07:02:45.022828Z",
     "iopub.status.idle": "2022-05-11T07:03:41.249236Z",
     "shell.execute_reply": "2022-05-11T07:03:41.248419Z"
    },
    "papermill": {
     "duration": 57.096131,
     "end_time": "2022-05-11T07:03:41.251645",
     "exception": false,
     "start_time": "2022-05-11T07:02:44.155514",
     "status": "completed"
    },
    "tags": []
   },
   "outputs": [],
   "source": [
    "acc = model.evaluate(test_dataset, verbose=0)"
   ]
  },
  {
   "cell_type": "code",
   "execution_count": 28,
   "id": "ac9e5c3e",
   "metadata": {
    "execution": {
     "iopub.execute_input": "2022-05-11T07:03:42.888633Z",
     "iopub.status.busy": "2022-05-11T07:03:42.888360Z",
     "iopub.status.idle": "2022-05-11T07:03:42.893135Z",
     "shell.execute_reply": "2022-05-11T07:03:42.892473Z"
    },
    "papermill": {
     "duration": 0.816129,
     "end_time": "2022-05-11T07:03:42.894957",
     "exception": false,
     "start_time": "2022-05-11T07:03:42.078828",
     "status": "completed"
    },
    "tags": []
   },
   "outputs": [
    {
     "data": {
      "text/plain": [
       "[0.3616354763507843, 0.8374999761581421, 0.8460559844970703, 0.831250011920929]"
      ]
     },
     "execution_count": 28,
     "metadata": {},
     "output_type": "execute_result"
    }
   ],
   "source": [
    "acc"
   ]
  },
  {
   "cell_type": "code",
   "execution_count": 29,
   "id": "c87341be",
   "metadata": {
    "execution": {
     "iopub.execute_input": "2022-05-11T07:03:44.822445Z",
     "iopub.status.busy": "2022-05-11T07:03:44.822179Z",
     "iopub.status.idle": "2022-05-11T07:03:45.298979Z",
     "shell.execute_reply": "2022-05-11T07:03:45.297612Z"
    },
    "papermill": {
     "duration": 1.556563,
     "end_time": "2022-05-11T07:03:45.301036",
     "exception": true,
     "start_time": "2022-05-11T07:03:43.744473",
     "status": "failed"
    },
    "tags": []
   },
   "outputs": [
    {
     "ename": "ValueError",
     "evalue": "in user code:\n\n    /opt/conda/lib/python3.7/site-packages/keras/engine/training.py:1586 predict_function  *\n        return step_function(self, iterator)\n    /opt/conda/lib/python3.7/site-packages/keras/engine/training.py:1576 step_function  **\n        outputs = model.distribute_strategy.run(run_step, args=(data,))\n    /opt/conda/lib/python3.7/site-packages/tensorflow/python/distribute/distribute_lib.py:1286 run\n        return self._extended.call_for_each_replica(fn, args=args, kwargs=kwargs)\n    /opt/conda/lib/python3.7/site-packages/tensorflow/python/distribute/distribute_lib.py:2849 call_for_each_replica\n        return self._call_for_each_replica(fn, args, kwargs)\n    /opt/conda/lib/python3.7/site-packages/tensorflow/python/distribute/distribute_lib.py:3632 _call_for_each_replica\n        return fn(*args, **kwargs)\n    /opt/conda/lib/python3.7/site-packages/keras/engine/training.py:1569 run_step  **\n        outputs = model.predict_step(data)\n    /opt/conda/lib/python3.7/site-packages/keras/engine/training.py:1537 predict_step\n        return self(x, training=False)\n    /opt/conda/lib/python3.7/site-packages/keras/engine/base_layer.py:1037 __call__\n        outputs = call_fn(inputs, *args, **kwargs)\n    /opt/conda/lib/python3.7/site-packages/keras/engine/sequential.py:369 call\n        return super(Sequential, self).call(inputs, training=training, mask=mask)\n    /opt/conda/lib/python3.7/site-packages/keras/engine/functional.py:415 call\n        inputs, training=training, mask=mask)\n    /opt/conda/lib/python3.7/site-packages/keras/engine/functional.py:550 _run_internal_graph\n        outputs = node.layer(*args, **kwargs)\n    /opt/conda/lib/python3.7/site-packages/keras/engine/base_layer.py:1037 __call__\n        outputs = call_fn(inputs, *args, **kwargs)\n    /opt/conda/lib/python3.7/site-packages/keras/saving/saved_model/utils.py:68 return_outputs_and_add_losses\n        outputs, losses = fn(*args, **kwargs)\n    /opt/conda/lib/python3.7/site-packages/keras/saving/saved_model/utils.py:166 wrap_with_training_arg\n        lambda: replace_training_and_call(False))\n    /opt/conda/lib/python3.7/site-packages/keras/utils/control_flow_util.py:106 smart_cond\n        pred, true_fn=true_fn, false_fn=false_fn, name=name)\n    /opt/conda/lib/python3.7/site-packages/tensorflow/python/framework/smart_cond.py:58 smart_cond\n        return false_fn()\n    /opt/conda/lib/python3.7/site-packages/keras/saving/saved_model/utils.py:166 <lambda>\n        lambda: replace_training_and_call(False))\n    /opt/conda/lib/python3.7/site-packages/keras/saving/saved_model/utils.py:162 replace_training_and_call\n        return wrapped_call(*args, **kwargs)\n    /opt/conda/lib/python3.7/site-packages/tensorflow/python/eager/def_function.py:885 __call__\n        result = self._call(*args, **kwds)\n    /opt/conda/lib/python3.7/site-packages/tensorflow/python/eager/def_function.py:924 _call\n        results = self._stateful_fn(*args, **kwds)\n    /opt/conda/lib/python3.7/site-packages/tensorflow/python/eager/function.py:3038 __call__\n        filtered_flat_args) = self._maybe_define_function(args, kwargs)\n    /opt/conda/lib/python3.7/site-packages/tensorflow/python/eager/function.py:3463 _maybe_define_function\n        graph_function = self._create_graph_function(args, kwargs)\n    /opt/conda/lib/python3.7/site-packages/tensorflow/python/eager/function.py:3308 _create_graph_function\n        capture_by_value=self._capture_by_value),\n    /opt/conda/lib/python3.7/site-packages/tensorflow/python/framework/func_graph.py:1007 func_graph_from_py_func\n        func_outputs = python_func(*func_args, **func_kwargs)\n    /opt/conda/lib/python3.7/site-packages/tensorflow/python/eager/def_function.py:668 wrapped_fn\n        out = weak_wrapped_fn().__wrapped__(*args, **kwds)\n    /opt/conda/lib/python3.7/site-packages/tensorflow/python/saved_model/function_deserialization.py:294 restored_function_body\n        \"\\n\\n\".join(signature_descriptions)))\n\n    ValueError: Could not find matching function to call loaded from the SavedModel. Got:\n      Positional arguments (2 total):\n        * Tensor(\"inputs:0\", shape=(None, 224, 224, 3), dtype=float32)\n        * False\n      Keyword arguments: {}\n    \n    Expected these arguments to match one of the following 2 option(s):\n    \n    Option 1:\n      Positional arguments (2 total):\n        * TensorSpec(shape=(None, 500, 500, 3), dtype=tf.float32, name='inputs')\n        * False\n      Keyword arguments: {}\n    \n    Option 2:\n      Positional arguments (2 total):\n        * TensorSpec(shape=(None, 500, 500, 3), dtype=tf.float32, name='inputs')\n        * True\n      Keyword arguments: {}\n",
     "output_type": "error",
     "traceback": [
      "\u001b[0;31m---------------------------------------------------------------------------\u001b[0m",
      "\u001b[0;31mValueError\u001b[0m                                Traceback (most recent call last)",
      "\u001b[0;32m/tmp/ipykernel_23/3454205164.py\u001b[0m in \u001b[0;36m<module>\u001b[0;34m\u001b[0m\n\u001b[1;32m      5\u001b[0m \u001b[0mres\u001b[0m \u001b[0;34m=\u001b[0m \u001b[0mcv2\u001b[0m\u001b[0;34m.\u001b[0m\u001b[0mresize\u001b[0m\u001b[0;34m(\u001b[0m\u001b[0mimg\u001b[0m\u001b[0;34m,\u001b[0m \u001b[0mdsize\u001b[0m\u001b[0;34m=\u001b[0m\u001b[0;34m(\u001b[0m\u001b[0;36m224\u001b[0m\u001b[0;34m,\u001b[0m \u001b[0;36m224\u001b[0m\u001b[0;34m)\u001b[0m\u001b[0;34m,\u001b[0m \u001b[0minterpolation\u001b[0m\u001b[0;34m=\u001b[0m\u001b[0mcv2\u001b[0m\u001b[0;34m.\u001b[0m\u001b[0mINTER_CUBIC\u001b[0m\u001b[0;34m)\u001b[0m\u001b[0;34m\u001b[0m\u001b[0;34m\u001b[0m\u001b[0m\n\u001b[1;32m      6\u001b[0m \u001b[0mres\u001b[0m \u001b[0;34m=\u001b[0m \u001b[0mnp\u001b[0m\u001b[0;34m.\u001b[0m\u001b[0mexpand_dims\u001b[0m\u001b[0;34m(\u001b[0m\u001b[0mres\u001b[0m\u001b[0;34m,\u001b[0m \u001b[0maxis\u001b[0m\u001b[0;34m=\u001b[0m\u001b[0;36m0\u001b[0m\u001b[0;34m)\u001b[0m\u001b[0;34m\u001b[0m\u001b[0;34m\u001b[0m\u001b[0m\n\u001b[0;32m----> 7\u001b[0;31m \u001b[0mx\u001b[0m\u001b[0;34m=\u001b[0m\u001b[0mnp\u001b[0m\u001b[0;34m.\u001b[0m\u001b[0margmax\u001b[0m\u001b[0;34m(\u001b[0m\u001b[0mmodel\u001b[0m\u001b[0;34m.\u001b[0m\u001b[0mpredict\u001b[0m\u001b[0;34m(\u001b[0m\u001b[0mres\u001b[0m\u001b[0;34m)\u001b[0m\u001b[0;34m)\u001b[0m\u001b[0;34m\u001b[0m\u001b[0;34m\u001b[0m\u001b[0m\n\u001b[0m\u001b[1;32m      8\u001b[0m \u001b[0;34m\u001b[0m\u001b[0m\n\u001b[1;32m      9\u001b[0m \u001b[0;31m# model.predict(res)\u001b[0m\u001b[0;34m\u001b[0m\u001b[0;34m\u001b[0m\u001b[0;34m\u001b[0m\u001b[0m\n",
      "\u001b[0;32m/opt/conda/lib/python3.7/site-packages/keras/engine/training.py\u001b[0m in \u001b[0;36mpredict\u001b[0;34m(self, x, batch_size, verbose, steps, callbacks, max_queue_size, workers, use_multiprocessing)\u001b[0m\n\u001b[1;32m   1749\u001b[0m           \u001b[0;32mfor\u001b[0m \u001b[0mstep\u001b[0m \u001b[0;32min\u001b[0m \u001b[0mdata_handler\u001b[0m\u001b[0;34m.\u001b[0m\u001b[0msteps\u001b[0m\u001b[0;34m(\u001b[0m\u001b[0;34m)\u001b[0m\u001b[0;34m:\u001b[0m\u001b[0;34m\u001b[0m\u001b[0;34m\u001b[0m\u001b[0m\n\u001b[1;32m   1750\u001b[0m             \u001b[0mcallbacks\u001b[0m\u001b[0;34m.\u001b[0m\u001b[0mon_predict_batch_begin\u001b[0m\u001b[0;34m(\u001b[0m\u001b[0mstep\u001b[0m\u001b[0;34m)\u001b[0m\u001b[0;34m\u001b[0m\u001b[0;34m\u001b[0m\u001b[0m\n\u001b[0;32m-> 1751\u001b[0;31m             \u001b[0mtmp_batch_outputs\u001b[0m \u001b[0;34m=\u001b[0m \u001b[0mself\u001b[0m\u001b[0;34m.\u001b[0m\u001b[0mpredict_function\u001b[0m\u001b[0;34m(\u001b[0m\u001b[0miterator\u001b[0m\u001b[0;34m)\u001b[0m\u001b[0;34m\u001b[0m\u001b[0;34m\u001b[0m\u001b[0m\n\u001b[0m\u001b[1;32m   1752\u001b[0m             \u001b[0;32mif\u001b[0m \u001b[0mdata_handler\u001b[0m\u001b[0;34m.\u001b[0m\u001b[0mshould_sync\u001b[0m\u001b[0;34m:\u001b[0m\u001b[0;34m\u001b[0m\u001b[0;34m\u001b[0m\u001b[0m\n\u001b[1;32m   1753\u001b[0m               \u001b[0mcontext\u001b[0m\u001b[0;34m.\u001b[0m\u001b[0masync_wait\u001b[0m\u001b[0;34m(\u001b[0m\u001b[0;34m)\u001b[0m\u001b[0;34m\u001b[0m\u001b[0;34m\u001b[0m\u001b[0m\n",
      "\u001b[0;32m/opt/conda/lib/python3.7/site-packages/tensorflow/python/eager/def_function.py\u001b[0m in \u001b[0;36m__call__\u001b[0;34m(self, *args, **kwds)\u001b[0m\n\u001b[1;32m    883\u001b[0m \u001b[0;34m\u001b[0m\u001b[0m\n\u001b[1;32m    884\u001b[0m       \u001b[0;32mwith\u001b[0m \u001b[0mOptionalXlaContext\u001b[0m\u001b[0;34m(\u001b[0m\u001b[0mself\u001b[0m\u001b[0;34m.\u001b[0m\u001b[0m_jit_compile\u001b[0m\u001b[0;34m)\u001b[0m\u001b[0;34m:\u001b[0m\u001b[0;34m\u001b[0m\u001b[0;34m\u001b[0m\u001b[0m\n\u001b[0;32m--> 885\u001b[0;31m         \u001b[0mresult\u001b[0m \u001b[0;34m=\u001b[0m \u001b[0mself\u001b[0m\u001b[0;34m.\u001b[0m\u001b[0m_call\u001b[0m\u001b[0;34m(\u001b[0m\u001b[0;34m*\u001b[0m\u001b[0margs\u001b[0m\u001b[0;34m,\u001b[0m \u001b[0;34m**\u001b[0m\u001b[0mkwds\u001b[0m\u001b[0;34m)\u001b[0m\u001b[0;34m\u001b[0m\u001b[0;34m\u001b[0m\u001b[0m\n\u001b[0m\u001b[1;32m    886\u001b[0m \u001b[0;34m\u001b[0m\u001b[0m\n\u001b[1;32m    887\u001b[0m       \u001b[0mnew_tracing_count\u001b[0m \u001b[0;34m=\u001b[0m \u001b[0mself\u001b[0m\u001b[0;34m.\u001b[0m\u001b[0mexperimental_get_tracing_count\u001b[0m\u001b[0;34m(\u001b[0m\u001b[0;34m)\u001b[0m\u001b[0;34m\u001b[0m\u001b[0;34m\u001b[0m\u001b[0m\n",
      "\u001b[0;32m/opt/conda/lib/python3.7/site-packages/tensorflow/python/eager/def_function.py\u001b[0m in \u001b[0;36m_call\u001b[0;34m(self, *args, **kwds)\u001b[0m\n\u001b[1;32m    931\u001b[0m       \u001b[0;31m# This is the first call of __call__, so we have to initialize.\u001b[0m\u001b[0;34m\u001b[0m\u001b[0;34m\u001b[0m\u001b[0;34m\u001b[0m\u001b[0m\n\u001b[1;32m    932\u001b[0m       \u001b[0minitializers\u001b[0m \u001b[0;34m=\u001b[0m \u001b[0;34m[\u001b[0m\u001b[0;34m]\u001b[0m\u001b[0;34m\u001b[0m\u001b[0;34m\u001b[0m\u001b[0m\n\u001b[0;32m--> 933\u001b[0;31m       \u001b[0mself\u001b[0m\u001b[0;34m.\u001b[0m\u001b[0m_initialize\u001b[0m\u001b[0;34m(\u001b[0m\u001b[0margs\u001b[0m\u001b[0;34m,\u001b[0m \u001b[0mkwds\u001b[0m\u001b[0;34m,\u001b[0m \u001b[0madd_initializers_to\u001b[0m\u001b[0;34m=\u001b[0m\u001b[0minitializers\u001b[0m\u001b[0;34m)\u001b[0m\u001b[0;34m\u001b[0m\u001b[0;34m\u001b[0m\u001b[0m\n\u001b[0m\u001b[1;32m    934\u001b[0m     \u001b[0;32mfinally\u001b[0m\u001b[0;34m:\u001b[0m\u001b[0;34m\u001b[0m\u001b[0;34m\u001b[0m\u001b[0m\n\u001b[1;32m    935\u001b[0m       \u001b[0;31m# At this point we know that the initialization is complete (or less\u001b[0m\u001b[0;34m\u001b[0m\u001b[0;34m\u001b[0m\u001b[0;34m\u001b[0m\u001b[0m\n",
      "\u001b[0;32m/opt/conda/lib/python3.7/site-packages/tensorflow/python/eager/def_function.py\u001b[0m in \u001b[0;36m_initialize\u001b[0;34m(self, args, kwds, add_initializers_to)\u001b[0m\n\u001b[1;32m    758\u001b[0m     self._concrete_stateful_fn = (\n\u001b[1;32m    759\u001b[0m         self._stateful_fn._get_concrete_function_internal_garbage_collected(  # pylint: disable=protected-access\n\u001b[0;32m--> 760\u001b[0;31m             *args, **kwds))\n\u001b[0m\u001b[1;32m    761\u001b[0m \u001b[0;34m\u001b[0m\u001b[0m\n\u001b[1;32m    762\u001b[0m     \u001b[0;32mdef\u001b[0m \u001b[0minvalid_creator_scope\u001b[0m\u001b[0;34m(\u001b[0m\u001b[0;34m*\u001b[0m\u001b[0munused_args\u001b[0m\u001b[0;34m,\u001b[0m \u001b[0;34m**\u001b[0m\u001b[0munused_kwds\u001b[0m\u001b[0;34m)\u001b[0m\u001b[0;34m:\u001b[0m\u001b[0;34m\u001b[0m\u001b[0;34m\u001b[0m\u001b[0m\n",
      "\u001b[0;32m/opt/conda/lib/python3.7/site-packages/tensorflow/python/eager/function.py\u001b[0m in \u001b[0;36m_get_concrete_function_internal_garbage_collected\u001b[0;34m(self, *args, **kwargs)\u001b[0m\n\u001b[1;32m   3064\u001b[0m       \u001b[0margs\u001b[0m\u001b[0;34m,\u001b[0m \u001b[0mkwargs\u001b[0m \u001b[0;34m=\u001b[0m \u001b[0;32mNone\u001b[0m\u001b[0;34m,\u001b[0m \u001b[0;32mNone\u001b[0m\u001b[0;34m\u001b[0m\u001b[0;34m\u001b[0m\u001b[0m\n\u001b[1;32m   3065\u001b[0m     \u001b[0;32mwith\u001b[0m \u001b[0mself\u001b[0m\u001b[0;34m.\u001b[0m\u001b[0m_lock\u001b[0m\u001b[0;34m:\u001b[0m\u001b[0;34m\u001b[0m\u001b[0;34m\u001b[0m\u001b[0m\n\u001b[0;32m-> 3066\u001b[0;31m       \u001b[0mgraph_function\u001b[0m\u001b[0;34m,\u001b[0m \u001b[0m_\u001b[0m \u001b[0;34m=\u001b[0m \u001b[0mself\u001b[0m\u001b[0;34m.\u001b[0m\u001b[0m_maybe_define_function\u001b[0m\u001b[0;34m(\u001b[0m\u001b[0margs\u001b[0m\u001b[0;34m,\u001b[0m \u001b[0mkwargs\u001b[0m\u001b[0;34m)\u001b[0m\u001b[0;34m\u001b[0m\u001b[0;34m\u001b[0m\u001b[0m\n\u001b[0m\u001b[1;32m   3067\u001b[0m     \u001b[0;32mreturn\u001b[0m \u001b[0mgraph_function\u001b[0m\u001b[0;34m\u001b[0m\u001b[0;34m\u001b[0m\u001b[0m\n\u001b[1;32m   3068\u001b[0m \u001b[0;34m\u001b[0m\u001b[0m\n",
      "\u001b[0;32m/opt/conda/lib/python3.7/site-packages/tensorflow/python/eager/function.py\u001b[0m in \u001b[0;36m_maybe_define_function\u001b[0;34m(self, args, kwargs)\u001b[0m\n\u001b[1;32m   3461\u001b[0m \u001b[0;34m\u001b[0m\u001b[0m\n\u001b[1;32m   3462\u001b[0m           \u001b[0mself\u001b[0m\u001b[0;34m.\u001b[0m\u001b[0m_function_cache\u001b[0m\u001b[0;34m.\u001b[0m\u001b[0mmissed\u001b[0m\u001b[0;34m.\u001b[0m\u001b[0madd\u001b[0m\u001b[0;34m(\u001b[0m\u001b[0mcall_context_key\u001b[0m\u001b[0;34m)\u001b[0m\u001b[0;34m\u001b[0m\u001b[0;34m\u001b[0m\u001b[0m\n\u001b[0;32m-> 3463\u001b[0;31m           \u001b[0mgraph_function\u001b[0m \u001b[0;34m=\u001b[0m \u001b[0mself\u001b[0m\u001b[0;34m.\u001b[0m\u001b[0m_create_graph_function\u001b[0m\u001b[0;34m(\u001b[0m\u001b[0margs\u001b[0m\u001b[0;34m,\u001b[0m \u001b[0mkwargs\u001b[0m\u001b[0;34m)\u001b[0m\u001b[0;34m\u001b[0m\u001b[0;34m\u001b[0m\u001b[0m\n\u001b[0m\u001b[1;32m   3464\u001b[0m           \u001b[0mself\u001b[0m\u001b[0;34m.\u001b[0m\u001b[0m_function_cache\u001b[0m\u001b[0;34m.\u001b[0m\u001b[0mprimary\u001b[0m\u001b[0;34m[\u001b[0m\u001b[0mcache_key\u001b[0m\u001b[0;34m]\u001b[0m \u001b[0;34m=\u001b[0m \u001b[0mgraph_function\u001b[0m\u001b[0;34m\u001b[0m\u001b[0;34m\u001b[0m\u001b[0m\n\u001b[1;32m   3465\u001b[0m \u001b[0;34m\u001b[0m\u001b[0m\n",
      "\u001b[0;32m/opt/conda/lib/python3.7/site-packages/tensorflow/python/eager/function.py\u001b[0m in \u001b[0;36m_create_graph_function\u001b[0;34m(self, args, kwargs, override_flat_arg_shapes)\u001b[0m\n\u001b[1;32m   3306\u001b[0m             \u001b[0marg_names\u001b[0m\u001b[0;34m=\u001b[0m\u001b[0marg_names\u001b[0m\u001b[0;34m,\u001b[0m\u001b[0;34m\u001b[0m\u001b[0;34m\u001b[0m\u001b[0m\n\u001b[1;32m   3307\u001b[0m             \u001b[0moverride_flat_arg_shapes\u001b[0m\u001b[0;34m=\u001b[0m\u001b[0moverride_flat_arg_shapes\u001b[0m\u001b[0;34m,\u001b[0m\u001b[0;34m\u001b[0m\u001b[0;34m\u001b[0m\u001b[0m\n\u001b[0;32m-> 3308\u001b[0;31m             capture_by_value=self._capture_by_value),\n\u001b[0m\u001b[1;32m   3309\u001b[0m         \u001b[0mself\u001b[0m\u001b[0;34m.\u001b[0m\u001b[0m_function_attributes\u001b[0m\u001b[0;34m,\u001b[0m\u001b[0;34m\u001b[0m\u001b[0;34m\u001b[0m\u001b[0m\n\u001b[1;32m   3310\u001b[0m         \u001b[0mfunction_spec\u001b[0m\u001b[0;34m=\u001b[0m\u001b[0mself\u001b[0m\u001b[0;34m.\u001b[0m\u001b[0mfunction_spec\u001b[0m\u001b[0;34m,\u001b[0m\u001b[0;34m\u001b[0m\u001b[0;34m\u001b[0m\u001b[0m\n",
      "\u001b[0;32m/opt/conda/lib/python3.7/site-packages/tensorflow/python/framework/func_graph.py\u001b[0m in \u001b[0;36mfunc_graph_from_py_func\u001b[0;34m(name, python_func, args, kwargs, signature, func_graph, autograph, autograph_options, add_control_dependencies, arg_names, op_return_value, collections, capture_by_value, override_flat_arg_shapes, acd_record_initial_resource_uses)\u001b[0m\n\u001b[1;32m   1005\u001b[0m         \u001b[0m_\u001b[0m\u001b[0;34m,\u001b[0m \u001b[0moriginal_func\u001b[0m \u001b[0;34m=\u001b[0m \u001b[0mtf_decorator\u001b[0m\u001b[0;34m.\u001b[0m\u001b[0munwrap\u001b[0m\u001b[0;34m(\u001b[0m\u001b[0mpython_func\u001b[0m\u001b[0;34m)\u001b[0m\u001b[0;34m\u001b[0m\u001b[0;34m\u001b[0m\u001b[0m\n\u001b[1;32m   1006\u001b[0m \u001b[0;34m\u001b[0m\u001b[0m\n\u001b[0;32m-> 1007\u001b[0;31m       \u001b[0mfunc_outputs\u001b[0m \u001b[0;34m=\u001b[0m \u001b[0mpython_func\u001b[0m\u001b[0;34m(\u001b[0m\u001b[0;34m*\u001b[0m\u001b[0mfunc_args\u001b[0m\u001b[0;34m,\u001b[0m \u001b[0;34m**\u001b[0m\u001b[0mfunc_kwargs\u001b[0m\u001b[0;34m)\u001b[0m\u001b[0;34m\u001b[0m\u001b[0;34m\u001b[0m\u001b[0m\n\u001b[0m\u001b[1;32m   1008\u001b[0m \u001b[0;34m\u001b[0m\u001b[0m\n\u001b[1;32m   1009\u001b[0m       \u001b[0;31m# invariant: `func_outputs` contains only Tensors, CompositeTensors,\u001b[0m\u001b[0;34m\u001b[0m\u001b[0;34m\u001b[0m\u001b[0;34m\u001b[0m\u001b[0m\n",
      "\u001b[0;32m/opt/conda/lib/python3.7/site-packages/tensorflow/python/eager/def_function.py\u001b[0m in \u001b[0;36mwrapped_fn\u001b[0;34m(*args, **kwds)\u001b[0m\n\u001b[1;32m    666\u001b[0m         \u001b[0;31m# the function a weak reference to itself to avoid a reference cycle.\u001b[0m\u001b[0;34m\u001b[0m\u001b[0;34m\u001b[0m\u001b[0;34m\u001b[0m\u001b[0m\n\u001b[1;32m    667\u001b[0m         \u001b[0;32mwith\u001b[0m \u001b[0mOptionalXlaContext\u001b[0m\u001b[0;34m(\u001b[0m\u001b[0mcompile_with_xla\u001b[0m\u001b[0;34m)\u001b[0m\u001b[0;34m:\u001b[0m\u001b[0;34m\u001b[0m\u001b[0;34m\u001b[0m\u001b[0m\n\u001b[0;32m--> 668\u001b[0;31m           \u001b[0mout\u001b[0m \u001b[0;34m=\u001b[0m \u001b[0mweak_wrapped_fn\u001b[0m\u001b[0;34m(\u001b[0m\u001b[0;34m)\u001b[0m\u001b[0;34m.\u001b[0m\u001b[0m__wrapped__\u001b[0m\u001b[0;34m(\u001b[0m\u001b[0;34m*\u001b[0m\u001b[0margs\u001b[0m\u001b[0;34m,\u001b[0m \u001b[0;34m**\u001b[0m\u001b[0mkwds\u001b[0m\u001b[0;34m)\u001b[0m\u001b[0;34m\u001b[0m\u001b[0;34m\u001b[0m\u001b[0m\n\u001b[0m\u001b[1;32m    669\u001b[0m         \u001b[0;32mreturn\u001b[0m \u001b[0mout\u001b[0m\u001b[0;34m\u001b[0m\u001b[0;34m\u001b[0m\u001b[0m\n\u001b[1;32m    670\u001b[0m \u001b[0;34m\u001b[0m\u001b[0m\n",
      "\u001b[0;32m/opt/conda/lib/python3.7/site-packages/tensorflow/python/framework/func_graph.py\u001b[0m in \u001b[0;36mwrapper\u001b[0;34m(*args, **kwargs)\u001b[0m\n\u001b[1;32m    992\u001b[0m           \u001b[0;32mexcept\u001b[0m \u001b[0mException\u001b[0m \u001b[0;32mas\u001b[0m \u001b[0me\u001b[0m\u001b[0;34m:\u001b[0m  \u001b[0;31m# pylint:disable=broad-except\u001b[0m\u001b[0;34m\u001b[0m\u001b[0;34m\u001b[0m\u001b[0m\n\u001b[1;32m    993\u001b[0m             \u001b[0;32mif\u001b[0m \u001b[0mhasattr\u001b[0m\u001b[0;34m(\u001b[0m\u001b[0me\u001b[0m\u001b[0;34m,\u001b[0m \u001b[0;34m\"ag_error_metadata\"\u001b[0m\u001b[0;34m)\u001b[0m\u001b[0;34m:\u001b[0m\u001b[0;34m\u001b[0m\u001b[0;34m\u001b[0m\u001b[0m\n\u001b[0;32m--> 994\u001b[0;31m               \u001b[0;32mraise\u001b[0m \u001b[0me\u001b[0m\u001b[0;34m.\u001b[0m\u001b[0mag_error_metadata\u001b[0m\u001b[0;34m.\u001b[0m\u001b[0mto_exception\u001b[0m\u001b[0;34m(\u001b[0m\u001b[0me\u001b[0m\u001b[0;34m)\u001b[0m\u001b[0;34m\u001b[0m\u001b[0;34m\u001b[0m\u001b[0m\n\u001b[0m\u001b[1;32m    995\u001b[0m             \u001b[0;32melse\u001b[0m\u001b[0;34m:\u001b[0m\u001b[0;34m\u001b[0m\u001b[0;34m\u001b[0m\u001b[0m\n\u001b[1;32m    996\u001b[0m               \u001b[0;32mraise\u001b[0m\u001b[0;34m\u001b[0m\u001b[0;34m\u001b[0m\u001b[0m\n",
      "\u001b[0;31mValueError\u001b[0m: in user code:\n\n    /opt/conda/lib/python3.7/site-packages/keras/engine/training.py:1586 predict_function  *\n        return step_function(self, iterator)\n    /opt/conda/lib/python3.7/site-packages/keras/engine/training.py:1576 step_function  **\n        outputs = model.distribute_strategy.run(run_step, args=(data,))\n    /opt/conda/lib/python3.7/site-packages/tensorflow/python/distribute/distribute_lib.py:1286 run\n        return self._extended.call_for_each_replica(fn, args=args, kwargs=kwargs)\n    /opt/conda/lib/python3.7/site-packages/tensorflow/python/distribute/distribute_lib.py:2849 call_for_each_replica\n        return self._call_for_each_replica(fn, args, kwargs)\n    /opt/conda/lib/python3.7/site-packages/tensorflow/python/distribute/distribute_lib.py:3632 _call_for_each_replica\n        return fn(*args, **kwargs)\n    /opt/conda/lib/python3.7/site-packages/keras/engine/training.py:1569 run_step  **\n        outputs = model.predict_step(data)\n    /opt/conda/lib/python3.7/site-packages/keras/engine/training.py:1537 predict_step\n        return self(x, training=False)\n    /opt/conda/lib/python3.7/site-packages/keras/engine/base_layer.py:1037 __call__\n        outputs = call_fn(inputs, *args, **kwargs)\n    /opt/conda/lib/python3.7/site-packages/keras/engine/sequential.py:369 call\n        return super(Sequential, self).call(inputs, training=training, mask=mask)\n    /opt/conda/lib/python3.7/site-packages/keras/engine/functional.py:415 call\n        inputs, training=training, mask=mask)\n    /opt/conda/lib/python3.7/site-packages/keras/engine/functional.py:550 _run_internal_graph\n        outputs = node.layer(*args, **kwargs)\n    /opt/conda/lib/python3.7/site-packages/keras/engine/base_layer.py:1037 __call__\n        outputs = call_fn(inputs, *args, **kwargs)\n    /opt/conda/lib/python3.7/site-packages/keras/saving/saved_model/utils.py:68 return_outputs_and_add_losses\n        outputs, losses = fn(*args, **kwargs)\n    /opt/conda/lib/python3.7/site-packages/keras/saving/saved_model/utils.py:166 wrap_with_training_arg\n        lambda: replace_training_and_call(False))\n    /opt/conda/lib/python3.7/site-packages/keras/utils/control_flow_util.py:106 smart_cond\n        pred, true_fn=true_fn, false_fn=false_fn, name=name)\n    /opt/conda/lib/python3.7/site-packages/tensorflow/python/framework/smart_cond.py:58 smart_cond\n        return false_fn()\n    /opt/conda/lib/python3.7/site-packages/keras/saving/saved_model/utils.py:166 <lambda>\n        lambda: replace_training_and_call(False))\n    /opt/conda/lib/python3.7/site-packages/keras/saving/saved_model/utils.py:162 replace_training_and_call\n        return wrapped_call(*args, **kwargs)\n    /opt/conda/lib/python3.7/site-packages/tensorflow/python/eager/def_function.py:885 __call__\n        result = self._call(*args, **kwds)\n    /opt/conda/lib/python3.7/site-packages/tensorflow/python/eager/def_function.py:924 _call\n        results = self._stateful_fn(*args, **kwds)\n    /opt/conda/lib/python3.7/site-packages/tensorflow/python/eager/function.py:3038 __call__\n        filtered_flat_args) = self._maybe_define_function(args, kwargs)\n    /opt/conda/lib/python3.7/site-packages/tensorflow/python/eager/function.py:3463 _maybe_define_function\n        graph_function = self._create_graph_function(args, kwargs)\n    /opt/conda/lib/python3.7/site-packages/tensorflow/python/eager/function.py:3308 _create_graph_function\n        capture_by_value=self._capture_by_value),\n    /opt/conda/lib/python3.7/site-packages/tensorflow/python/framework/func_graph.py:1007 func_graph_from_py_func\n        func_outputs = python_func(*func_args, **func_kwargs)\n    /opt/conda/lib/python3.7/site-packages/tensorflow/python/eager/def_function.py:668 wrapped_fn\n        out = weak_wrapped_fn().__wrapped__(*args, **kwds)\n    /opt/conda/lib/python3.7/site-packages/tensorflow/python/saved_model/function_deserialization.py:294 restored_function_body\n        \"\\n\\n\".join(signature_descriptions)))\n\n    ValueError: Could not find matching function to call loaded from the SavedModel. Got:\n      Positional arguments (2 total):\n        * Tensor(\"inputs:0\", shape=(None, 224, 224, 3), dtype=float32)\n        * False\n      Keyword arguments: {}\n    \n    Expected these arguments to match one of the following 2 option(s):\n    \n    Option 1:\n      Positional arguments (2 total):\n        * TensorSpec(shape=(None, 500, 500, 3), dtype=tf.float32, name='inputs')\n        * False\n      Keyword arguments: {}\n    \n    Option 2:\n      Positional arguments (2 total):\n        * TensorSpec(shape=(None, 500, 500, 3), dtype=tf.float32, name='inputs')\n        * True\n      Keyword arguments: {}\n"
     ]
    }
   ],
   "source": [
    "import numpy as np\n",
    "import cv2\n",
    "# for dirpath, dirnames, filenames in os.walk('./spiltted/test'):\n",
    "img=cv2.imread(\"../input/the-kvasir-dataset/kvasir-dataset-v2/esophagitis/0134d93d-0922-4063-9acd-a4177f2b0c07.jpg\")\n",
    "res = cv2.resize(img, dsize=(224, 224), interpolation=cv2.INTER_CUBIC)\n",
    "res = np.expand_dims(res, axis=0)\n",
    "x=np.argmax(model.predict(res))\n",
    "    \n",
    "# model.predict(res)"
   ]
  },
  {
   "cell_type": "code",
   "execution_count": null,
   "id": "d0a34fea",
   "metadata": {
    "execution": {
     "iopub.execute_input": "2022-05-08T18:06:48.031091Z",
     "iopub.status.busy": "2022-05-08T18:06:48.030772Z",
     "iopub.status.idle": "2022-05-08T18:06:48.037941Z",
     "shell.execute_reply": "2022-05-08T18:06:48.037296Z",
     "shell.execute_reply.started": "2022-05-08T18:06:48.031053Z"
    },
    "papermill": {
     "duration": null,
     "end_time": null,
     "exception": null,
     "start_time": null,
     "status": "pending"
    },
    "tags": []
   },
   "outputs": [],
   "source": [
    "x"
   ]
  },
  {
   "cell_type": "code",
   "execution_count": null,
   "id": "a94f7d88",
   "metadata": {
    "papermill": {
     "duration": null,
     "end_time": null,
     "exception": null,
     "start_time": null,
     "status": "pending"
    },
    "tags": []
   },
   "outputs": [],
   "source": []
  },
  {
   "cell_type": "code",
   "execution_count": null,
   "id": "8b234ba5",
   "metadata": {
    "papermill": {
     "duration": null,
     "end_time": null,
     "exception": null,
     "start_time": null,
     "status": "pending"
    },
    "tags": []
   },
   "outputs": [],
   "source": []
  },
  {
   "cell_type": "code",
   "execution_count": null,
   "id": "aa798517",
   "metadata": {
    "papermill": {
     "duration": null,
     "end_time": null,
     "exception": null,
     "start_time": null,
     "status": "pending"
    },
    "tags": []
   },
   "outputs": [],
   "source": []
  },
  {
   "cell_type": "code",
   "execution_count": null,
   "id": "d3c8d7f5",
   "metadata": {
    "papermill": {
     "duration": null,
     "end_time": null,
     "exception": null,
     "start_time": null,
     "status": "pending"
    },
    "tags": []
   },
   "outputs": [],
   "source": []
  },
  {
   "cell_type": "code",
   "execution_count": null,
   "id": "bbc0d721",
   "metadata": {
    "execution": {
     "iopub.execute_input": "2022-05-07T17:17:25.796222Z",
     "iopub.status.busy": "2022-05-07T17:17:25.795847Z",
     "iopub.status.idle": "2022-05-07T17:17:25.802332Z",
     "shell.execute_reply": "2022-05-07T17:17:25.801704Z",
     "shell.execute_reply.started": "2022-05-07T17:17:25.796184Z"
    },
    "papermill": {
     "duration": null,
     "end_time": null,
     "exception": null,
     "start_time": null,
     "status": "pending"
    },
    "tags": []
   },
   "outputs": [],
   "source": [
    "# def load_images_from_folder(folder):\n",
    "#     images = []\n",
    "#     for filename in os.listdir(folder):\n",
    "#         img = cv2.imread(os.path.join(folder,filename))\n",
    "#         if img is not None:\n",
    "#             images.append(img)\n",
    "#     return images"
   ]
  },
  {
   "cell_type": "code",
   "execution_count": null,
   "id": "d5190c50",
   "metadata": {
    "execution": {
     "iopub.execute_input": "2022-05-07T17:35:18.759163Z",
     "iopub.status.busy": "2022-05-07T17:35:18.75872Z"
    },
    "papermill": {
     "duration": null,
     "end_time": null,
     "exception": null,
     "start_time": null,
     "status": "pending"
    },
    "tags": []
   },
   "outputs": [],
   "source": [
    "# import cv2\n",
    "# import numpy\n",
    "# import glob\n",
    "# for dirpath, dirnames, filenames in os.walk('./spiltted/test'):\n",
    "# #     folders = glob.glob(dirpath)\n",
    "\n",
    "#     imagenames_list = []\n",
    "#     for folder in dirpath:\n",
    "#         for f in glob.glob(dirpath+'/*.jpg'):\n",
    "#             imagenames_list.append(f)\n",
    "\n",
    "#     read_images = []        \n",
    "#     for image in imagenames_list:\n",
    "#         read_images.append(cv2.imread(image))"
   ]
  },
  {
   "cell_type": "code",
   "execution_count": null,
   "id": "676e25c6",
   "metadata": {
    "execution": {
     "iopub.execute_input": "2022-05-07T17:34:59.333548Z",
     "iopub.status.busy": "2022-05-07T17:34:59.333264Z",
     "iopub.status.idle": "2022-05-07T17:34:59.339205Z",
     "shell.execute_reply": "2022-05-07T17:34:59.338418Z",
     "shell.execute_reply.started": "2022-05-07T17:34:59.333503Z"
    },
    "papermill": {
     "duration": null,
     "end_time": null,
     "exception": null,
     "start_time": null,
     "status": "pending"
    },
    "tags": []
   },
   "outputs": [],
   "source": [
    "# len(read_images)"
   ]
  },
  {
   "cell_type": "code",
   "execution_count": null,
   "id": "53fbd310",
   "metadata": {
    "execution": {
     "iopub.execute_input": "2022-05-07T07:17:03.724622Z",
     "iopub.status.busy": "2022-05-07T07:17:03.724186Z",
     "iopub.status.idle": "2022-05-07T07:17:03.728586Z",
     "shell.execute_reply": "2022-05-07T07:17:03.727975Z",
     "shell.execute_reply.started": "2022-05-07T07:17:03.724583Z"
    },
    "papermill": {
     "duration": null,
     "end_time": null,
     "exception": null,
     "start_time": null,
     "status": "pending"
    },
    "tags": []
   },
   "outputs": [],
   "source": [
    "# os.mkdir('/kaggle/working/mysaved_minor')"
   ]
  },
  {
   "cell_type": "code",
   "execution_count": null,
   "id": "e6b00a8c",
   "metadata": {
    "execution": {
     "iopub.execute_input": "2022-05-07T08:52:21.363878Z",
     "iopub.status.busy": "2022-05-07T08:52:21.363561Z",
     "iopub.status.idle": "2022-05-07T08:52:21.39336Z",
     "shell.execute_reply": "2022-05-07T08:52:21.392035Z",
     "shell.execute_reply.started": "2022-05-07T08:52:21.363841Z"
    },
    "papermill": {
     "duration": null,
     "end_time": null,
     "exception": null,
     "start_time": null,
     "status": "pending"
    },
    "tags": []
   },
   "outputs": [],
   "source": [
    "# model.save('./mysaved_minor')\n"
   ]
  },
  {
   "cell_type": "code",
   "execution_count": null,
   "id": "7a97a110",
   "metadata": {
    "papermill": {
     "duration": null,
     "end_time": null,
     "exception": null,
     "start_time": null,
     "status": "pending"
    },
    "tags": []
   },
   "outputs": [],
   "source": [
    "# model = keras.models.load_model('./mysaved')"
   ]
  },
  {
   "cell_type": "code",
   "execution_count": null,
   "id": "0b2cbe28",
   "metadata": {
    "execution": {
     "iopub.execute_input": "2022-05-07T17:01:11.4693Z",
     "iopub.status.busy": "2022-05-07T17:01:11.46898Z",
     "iopub.status.idle": "2022-05-07T17:01:11.477907Z",
     "shell.execute_reply": "2022-05-07T17:01:11.476926Z",
     "shell.execute_reply.started": "2022-05-07T17:01:11.469265Z"
    },
    "papermill": {
     "duration": null,
     "end_time": null,
     "exception": null,
     "start_time": null,
     "status": "pending"
    },
    "tags": []
   },
   "outputs": [],
   "source": [
    "# x=[]\n",
    "# y=os.listdir(path)\n",
    "# for dirpath, dirnames, filenames in os.walk(path):\n",
    "#     n=len(filenames)\n",
    "#     x.append(n)\n",
    "# x=x[1:9]"
   ]
  },
  {
   "cell_type": "code",
   "execution_count": null,
   "id": "421cfd0e",
   "metadata": {
    "execution": {
     "iopub.execute_input": "2022-05-07T08:45:43.851099Z",
     "iopub.status.busy": "2022-05-07T08:45:43.850541Z",
     "iopub.status.idle": "2022-05-07T08:45:43.85777Z",
     "shell.execute_reply": "2022-05-07T08:45:43.857029Z",
     "shell.execute_reply.started": "2022-05-07T08:45:43.851051Z"
    },
    "papermill": {
     "duration": null,
     "end_time": null,
     "exception": null,
     "start_time": null,
     "status": "pending"
    },
    "tags": []
   },
   "outputs": [],
   "source": [
    "# a=os.listdir('./spiltted/test')\n",
    "# z=[]\n",
    "# for dirpath, dirnames, filenames in os.walk(\"./spiltted/test\"):\n",
    "# #     print(dirpath)\n",
    "# #     print(dirnames)\n",
    "# #     print((filenames))\n",
    "   \n",
    "#     if 'dyed-lifted-polyps' == dirpath:\n",
    "#         z.append(0*100)\n",
    "# #     filename_array=np.array(filenames)\n",
    "# #     print(filename_array.size )\n",
    "#         print(z)"
   ]
  },
  {
   "cell_type": "code",
   "execution_count": null,
   "id": "8465f1ce",
   "metadata": {
    "execution": {
     "iopub.execute_input": "2022-05-07T08:45:41.070855Z",
     "iopub.status.busy": "2022-05-07T08:45:41.070303Z",
     "iopub.status.idle": "2022-05-07T08:45:41.077575Z",
     "shell.execute_reply": "2022-05-07T08:45:41.076607Z",
     "shell.execute_reply.started": "2022-05-07T08:45:41.070806Z"
    },
    "papermill": {
     "duration": null,
     "end_time": null,
     "exception": null,
     "start_time": null,
     "status": "pending"
    },
    "tags": []
   },
   "outputs": [],
   "source": [
    "z"
   ]
  },
  {
   "cell_type": "code",
   "execution_count": null,
   "id": "bfe163e8",
   "metadata": {
    "execution": {
     "iopub.execute_input": "2022-05-07T17:01:11.482456Z",
     "iopub.status.busy": "2022-05-07T17:01:11.481763Z",
     "iopub.status.idle": "2022-05-07T17:01:11.490235Z",
     "shell.execute_reply": "2022-05-07T17:01:11.489191Z",
     "shell.execute_reply.started": "2022-05-07T17:01:11.482399Z"
    },
    "papermill": {
     "duration": null,
     "end_time": null,
     "exception": null,
     "start_time": null,
     "status": "pending"
    },
    "tags": []
   },
   "outputs": [],
   "source": [
    "# z=[]\n",
    "# for i in range(8):\n",
    "#     z.append([i]*100)"
   ]
  },
  {
   "cell_type": "code",
   "execution_count": null,
   "id": "b10d456d",
   "metadata": {
    "execution": {
     "iopub.execute_input": "2022-05-07T17:01:11.491786Z",
     "iopub.status.busy": "2022-05-07T17:01:11.491509Z",
     "iopub.status.idle": "2022-05-07T17:01:11.504164Z",
     "shell.execute_reply": "2022-05-07T17:01:11.503337Z",
     "shell.execute_reply.started": "2022-05-07T17:01:11.491755Z"
    },
    "papermill": {
     "duration": null,
     "end_time": null,
     "exception": null,
     "start_time": null,
     "status": "pending"
    },
    "tags": []
   },
   "outputs": [],
   "source": [
    "# Y_test=z"
   ]
  },
  {
   "cell_type": "code",
   "execution_count": null,
   "id": "b2a7eed6",
   "metadata": {
    "execution": {
     "iopub.execute_input": "2022-05-07T17:04:46.788874Z",
     "iopub.status.busy": "2022-05-07T17:04:46.788241Z",
     "iopub.status.idle": "2022-05-07T17:04:46.794578Z",
     "shell.execute_reply": "2022-05-07T17:04:46.793777Z",
     "shell.execute_reply.started": "2022-05-07T17:04:46.788836Z"
    },
    "papermill": {
     "duration": null,
     "end_time": null,
     "exception": null,
     "start_time": null,
     "status": "pending"
    },
    "tags": []
   },
   "outputs": [],
   "source": [
    "# y_pred=np.argmax(y_pred)\n",
    "# y_pred"
   ]
  },
  {
   "cell_type": "code",
   "execution_count": null,
   "id": "34ead4f2",
   "metadata": {
    "execution": {
     "iopub.execute_input": "2022-05-08T14:15:41.560156Z",
     "iopub.status.busy": "2022-05-08T14:15:41.559757Z",
     "iopub.status.idle": "2022-05-08T14:15:41.96521Z",
     "shell.execute_reply": "2022-05-08T14:15:41.964045Z",
     "shell.execute_reply.started": "2022-05-08T14:15:41.560118Z"
    },
    "papermill": {
     "duration": null,
     "end_time": null,
     "exception": null,
     "start_time": null,
     "status": "pending"
    },
    "tags": []
   },
   "outputs": [],
   "source": [
    "# from sklearn.metrics import ConfusionMatrixDisplay, confusion_matrix\n",
    "# # Y_test=np.argmax(y_test, axis=1)\n",
    "# y_pred=np.argmax(y_pred)\n",
    "# cm=confusion_matrix(Y_test,y_pred)\n",
    "# cm_plot=ConfusionMatrixDisplay(cm,display_labels=['0','1','2','3','4','5','6','7'])\n",
    "# cm_plot.plot()\n",
    "# plt.show()"
   ]
  },
  {
   "cell_type": "code",
   "execution_count": null,
   "id": "019010ff",
   "metadata": {
    "papermill": {
     "duration": null,
     "end_time": null,
     "exception": null,
     "start_time": null,
     "status": "pending"
    },
    "tags": []
   },
   "outputs": [],
   "source": []
  }
 ],
 "metadata": {
  "kernelspec": {
   "display_name": "Python 3",
   "language": "python",
   "name": "python3"
  },
  "language_info": {
   "codemirror_mode": {
    "name": "ipython",
    "version": 3
   },
   "file_extension": ".py",
   "mimetype": "text/x-python",
   "name": "python",
   "nbconvert_exporter": "python",
   "pygments_lexer": "ipython3",
   "version": "3.7.12"
  },
  "papermill": {
   "default_parameters": {},
   "duration": 7824.784226,
   "end_time": "2022-05-11T07:03:49.149293",
   "environment_variables": {},
   "exception": true,
   "input_path": "__notebook__.ipynb",
   "output_path": "__notebook__.ipynb",
   "parameters": {},
   "start_time": "2022-05-11T04:53:24.365067",
   "version": "2.3.4"
  }
 },
 "nbformat": 4,
 "nbformat_minor": 5
}
